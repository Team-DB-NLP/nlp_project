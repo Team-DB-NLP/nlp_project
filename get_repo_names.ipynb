{
 "cells": [
  {
   "cell_type": "code",
   "execution_count": 1,
   "id": "f68e44e8",
   "metadata": {
    "scrolled": true
   },
   "outputs": [],
   "source": [
    "import requests\n",
    "from requests import get\n",
    "from bs4 import BeautifulSoup\n",
    "import pandas as pd\n",
    "from pprint import pprint\n",
    "import os\n",
    "import time\n",
    "import divante_project_scraping"
   ]
  },
  {
   "cell_type": "code",
   "execution_count": null,
   "id": "70326d70",
   "metadata": {},
   "outputs": [],
   "source": [
    "[\"Mozilla/5.0 (Windows NT 10.0; rv:91.0) Gecko/20100101 Firefox/91.0\",\n",
    "  \"Mozilla/5.0 (Windows NT 10.0; rv:78.0) Gecko/20100101 Firefox/78.0\",\n",
    "  \"Mozilla/5.0 (X11; Linux x86_64; rv:95.0) Gecko/20100101 Firefox/95.0\"]"
   ]
  },
  {
   "cell_type": "code",
   "execution_count": null,
   "id": "534cd451",
   "metadata": {},
   "outputs": [],
   "source": [
    "headers = {\"User-Agent\": \"look at the stars\"}\n",
    "\n",
    "\n",
    "\n",
    "url = 'https://github.com/search?o=desc&q=stars%3A%3E1&s=forks&type=Repositories&p=6'\n",
    "response = get(url, headers = headers)\n",
    "response"
   ]
  },
  {
   "cell_type": "code",
   "execution_count": null,
   "id": "3d38a15f",
   "metadata": {},
   "outputs": [],
   "source": [
    "print(response.text)\n"
   ]
  },
  {
   "cell_type": "code",
   "execution_count": null,
   "id": "27fd5e2f",
   "metadata": {},
   "outputs": [],
   "source": [
    "soup = BeautifulSoup(response.content, 'html.parser')\n",
    "soup.find_all('a', class_ = 'v-align-middle')[0]['href']\n",
    "soup.find_all('a', class_ = 'next_page')"
   ]
  },
  {
   "cell_type": "code",
   "execution_count": 3,
   "id": "8116f955",
   "metadata": {
    "scrolled": true
   },
   "outputs": [
    {
     "name": "stdout",
     "output_type": "stream",
     "text": [
      "\n",
      "\n",
      "\n",
      "\n",
      "\n",
      "\n",
      "\n",
      "\n",
      "\n",
      "\n",
      "\n",
      "\n",
      "\n",
      "\n",
      "\n",
      "\n",
      "\n",
      "\n",
      "\n",
      "\n",
      "\n",
      "\n",
      "\n",
      "\n",
      "\n",
      "\n",
      "\n",
      "\n",
      "\n",
      "\n",
      "\n",
      "\n",
      "\n",
      "\n",
      "\n",
      "\n",
      "\n",
      "\n",
      "\n",
      "\n"
     ]
    },
    {
     "ename": "IndexError",
     "evalue": "list index out of range",
     "output_type": "error",
     "traceback": [
      "\u001b[0;31m---------------------------------------------------------------------------\u001b[0m",
      "\u001b[0;31mIndexError\u001b[0m                                Traceback (most recent call last)",
      "Cell \u001b[0;32mIn[3], line 16\u001b[0m\n\u001b[1;32m     12\u001b[0m     the_list_of_endings\u001b[38;5;241m.\u001b[39mappend(i[\u001b[38;5;124m'\u001b[39m\u001b[38;5;124mhref\u001b[39m\u001b[38;5;124m'\u001b[39m])\n\u001b[1;32m     13\u001b[0m \u001b[38;5;28mprint\u001b[39m(\u001b[38;5;124m'\u001b[39m\u001b[38;5;130;01m\\n\u001b[39;00m\u001b[38;5;130;01m\\n\u001b[39;00m\u001b[38;5;130;01m\\n\u001b[39;00m\u001b[38;5;124m'\u001b[39m)\n\u001b[0;32m---> 16\u001b[0m url \u001b[38;5;241m=\u001b[39m \u001b[38;5;124m'\u001b[39m\u001b[38;5;124mhttps://github.com\u001b[39m\u001b[38;5;124m'\u001b[39m \u001b[38;5;241m+\u001b[39m \u001b[43msoup\u001b[49m\u001b[38;5;241;43m.\u001b[39;49m\u001b[43mfind_all\u001b[49m\u001b[43m(\u001b[49m\u001b[38;5;124;43m'\u001b[39;49m\u001b[38;5;124;43ma\u001b[39;49m\u001b[38;5;124;43m'\u001b[39;49m\u001b[43m,\u001b[49m\u001b[43m \u001b[49m\u001b[43mclass_\u001b[49m\u001b[43m \u001b[49m\u001b[38;5;241;43m=\u001b[39;49m\u001b[43m \u001b[49m\u001b[38;5;124;43m'\u001b[39;49m\u001b[38;5;124;43mnext_page\u001b[39;49m\u001b[38;5;124;43m'\u001b[39;49m\u001b[43m)\u001b[49m\u001b[43m[\u001b[49m\u001b[38;5;241;43m0\u001b[39;49m\u001b[43m]\u001b[49m[\u001b[38;5;124m'\u001b[39m\u001b[38;5;124mhref\u001b[39m\u001b[38;5;124m'\u001b[39m]\n",
      "\u001b[0;31mIndexError\u001b[0m: list index out of range"
     ]
    }
   ],
   "source": [
    "def get_names_list():\n",
    "    url = 'https://github.com/search?q=healthcare&type=repositories'\n",
    "    headers = {\"User-Agent\": \"budda statue\"}\n",
    "    the_list_of_endings = []\n",
    "    for j in range(10):\n",
    "        time.sleep(5)\n",
    "        response = get(url, headers = headers)\n",
    "        soup = BeautifulSoup(response.content, 'html.parser')\n",
    "\n",
    "\n",
    "\n",
    "        for i in soup.find_all('a', class_ = 'v-align-middle'):\n",
    "            the_list_of_endings.append(i['href'])\n",
    "        print('\\n\\n\\n')\n",
    "\n",
    "\n",
    "        url = 'https://github.com' + soup.find_all('a', class_ = 'next_page')[0]['href']"
   ]
  },
  {
   "cell_type": "code",
   "execution_count": 6,
   "id": "a787412c",
   "metadata": {},
   "outputs": [
    {
     "data": {
      "text/plain": [
       "['/Project-MONAI/MONAI',\n",
       " '/GoogleCloudPlatform/healthcare',\n",
       " '/kakoni/awesome-healthcare',\n",
       " '/wanghaisheng/healthcaredatastandard',\n",
       " '/HealthCatalyst/healthcareai-py',\n",
       " '/microsoft/HealthBotContainerSample',\n",
       " '/isaacmg/healthcare_ml',\n",
       " '/TheAlphamerc/flutter_healthcare_app',\n",
       " '/nextgenhealthcare/connect',\n",
       " '/OCA/vertical-medical',\n",
       " '/HealthCatalyst/healthcareai-r',\n",
       " '/acoravos/healthcare-blockchains',\n",
       " '/itachi9604/healthcare-chatbot',\n",
       " '/prasadseemakurthi/Deep-Neural-Networks-HealthCare',\n",
       " '/pratik008/HealthCare_Twitter_Analysis',\n",
       " '/MoH-Malaysia/covid19-public',\n",
       " '/DataKind-SG/healthcare_ASEAN',\n",
       " '/llSourcell/AI_for_healthcare',\n",
       " '/sunlabuiuc/PyHealth',\n",
       " '/llSourcell/How_to_Build_a_healthcare_startup',\n",
       " '/GoogleCloudPlatform/healthcare-data-harmonization',\n",
       " '/vsharathchandra/AI-Healthcare-chatbot',\n",
       " '/Rishabh42/HealthCare-Insurance-Ethereum',\n",
       " '/PacktPublishing/Machine-Learning-for-Healthcare-Analytics-Projects',\n",
       " '/GoogleCloudPlatform/healthcare-dicom-dicomweb-adapter',\n",
       " '/newmediamedicine/CollaboRhythm',\n",
       " '/neee/healthcare-service',\n",
       " '/openhealthcare/opal',\n",
       " '/SoumyaRSethi/Data-Science-Capstone-Healthcare',\n",
       " '/loutfialiluch/HealthCare',\n",
       " '/pramodramdas/digital_healthcare',\n",
       " '/grfiv/healthcare_twitter_analysis',\n",
       " '/sarveshraj/blockchain-for-healthcare',\n",
       " '/instamed/healthcare-payments-blockchain',\n",
       " '/STRML/Healthcare.gov-Marketplace',\n",
       " '/medtorch/awesome-healthcare-ai',\n",
       " '/microsoft/InnerEye-DeepLearning',\n",
       " '/Project-Based-Learning-IT/healthcare-appointment-scheduling-app',\n",
       " '/edaaydinea/AI-Projects-for-Healthcare',\n",
       " '/IBMStreams/streamsx.health',\n",
       " '/MichaelAllen1966/1804_python_healthcare',\n",
       " '/vanderschaarlab/mlforhealthlabpub',\n",
       " '/IBM-MIL/IBM-Ready-App-for-Healthcare',\n",
       " '/qgzang/ComputationalHealthcare',\n",
       " '/microsoft/healthcare-shared-components',\n",
       " '/bluehalo/node-fhir-server-core',\n",
       " '/CMSgov/HealthCare.gov-Styleguide',\n",
       " '/medplum/medplum',\n",
       " '/nickls/awesome-healthcare-datasets',\n",
       " '/Conservatory/healthcare.gov-2013-10-01',\n",
       " '/AileenNielsen/OReillyHealthcareData',\n",
       " '/informatici/openhospital',\n",
       " '/technext/HealthCare',\n",
       " '/coronasafe/care',\n",
       " '/GoogleCloudPlatform/healthcare-deid',\n",
       " '/microsoft/healthcare-apis-samples',\n",
       " '/coronasafe/care_fe',\n",
       " '/openboxes/openboxes',\n",
       " '/hyperledger-labs/sawtooth-healthcare',\n",
       " '/chvlyl/ML_in_Biomed',\n",
       " '/abuanwar072/Production-Ready-Doctor-Consultant-App-UI-',\n",
       " '/amanjeetsahu/AI-for-Healthcare-Nanodegree',\n",
       " '/rahulremanan/HIMA',\n",
       " '/IMA-WorldHealth/bhima',\n",
       " '/GoogleCloudPlatform/healthcare-data-harmonization-dataflow',\n",
       " '/CodeForBaltimore/Healthcare-Rollcall',\n",
       " '/sample2025nit/HealthCareEx',\n",
       " '/aws-samples/aws-healthcare-lifescience-ai-ml-sample-notebooks',\n",
       " '/PacktPublishing/Healthcare-Analytics-Made-Simple',\n",
       " '/simpledotorg/simple-android',\n",
       " '/katalon-studio-samples/healthcare-tests',\n",
       " '/pras75299/Healthcare-Website',\n",
       " '/rajagopal28/healthcare-server',\n",
       " '/blencorp/HealthCare.gov-Open-Source-Release',\n",
       " '/Jianing-Qiu/Awesome-Healthcare-Foundation-Models',\n",
       " '/metriport/metriport',\n",
       " '/openmrs/openmrs-core',\n",
       " '/IBM/Medical-Blockchain',\n",
       " '/mp2893/retain',\n",
       " '/ESS-LLP/smarte',\n",
       " '/PacktPublishing/Applied-Machine-Learning-For-Healthcare',\n",
       " '/informatici/openhospital-core',\n",
       " '/opensource-emr/hospital-management-emr',\n",
       " '/clinical-meteor/meteor-on-fhir',\n",
       " '/digital-asset/ex-healthcare-claims-processing',\n",
       " '/Ivanzgj/HealthCare',\n",
       " '/TheDesignMedium/healthcare-website',\n",
       " '/cevheri/healthcare',\n",
       " '/OmRajpurkar/Healthcare-Chatbot',\n",
       " '/IRCAD/sight']"
      ]
     },
     "execution_count": 6,
     "metadata": {},
     "output_type": "execute_result"
    }
   ],
   "source": [
    "the_list_of_endings"
   ]
  }
 ],
 "metadata": {
  "kernelspec": {
   "display_name": "Python 3 (ipykernel)",
   "language": "python",
   "name": "python3"
  },
  "language_info": {
   "codemirror_mode": {
    "name": "ipython",
    "version": 3
   },
   "file_extension": ".py",
   "mimetype": "text/x-python",
   "name": "python",
   "nbconvert_exporter": "python",
   "pygments_lexer": "ipython3",
   "version": "3.9.16"
  }
 },
 "nbformat": 4,
 "nbformat_minor": 5
}
